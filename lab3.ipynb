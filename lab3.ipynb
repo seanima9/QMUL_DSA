{
 "cells": [
  {
   "cell_type": "markdown",
   "metadata": {},
   "source": [
    "# ECS529U Algorithms and Data Structures\n",
    "# Lab sheet 3\n",
    "\n",
    "This third lab gets you to work with big-Θ classes and practically check the efficiency of\n",
    "sorting algorithms by testing them on randomly generated arrays.\n",
    "\n",
    "**Marks (max 5):** Question 1: 1.5 | Question 2: 1 | Questions 3-7: 0.5 each"
   ]
  },
  {
   "cell_type": "markdown",
   "metadata": {},
   "source": [
    "## Question 1 (does not require coding)\n",
    "\n",
    "For each of the following expressions, find if they are Θ(1), Θ(logn), Θ(n), Θ(nlogn), Θ(<sup>2</sup>), Θ(n<sup>2022</sup>) or Θ(2<sup>n</sup>):\n",
    "1. 500 + 0.5n + 45logn\n",
    "2. 5000\n",
    "3. 42 + nlogn + 5logn + 50n\n",
    "4. 5nlogn + 2<sup>n</sup> + 300n<sup>2020</sup>n<sup>2</sup>\n",
    "\n",
    "Find the complexity, in terms of a simple big-Θ class, of the following expression:\n",
    "\n",
    "&nbsp;&nbsp;&nbsp;&nbsp;&nbsp;&nbsp;5(logn)<sup>13</sup> + 300n<sup>3</sup> + 30nlogn + 100\n",
    "\n",
    "Finally, consider the following function that counts the duplicate elements inside an array.\n",
    "\n",
    "    def countDups(A):\n",
    "        B = A[:]\n",
    "        selectionSort(B)\n",
    "        dups = 0\n",
    "        for i in range (1,len(B)):\n",
    "            if B[i] == B[i-1]: dups += 1\n",
    "        return dups\n",
    "        \n",
    "Explain, in terms of big-Θ, what is the worst-case time complexity of `countDups` as a function of the size of the array `A`. Note here that the line `B=A[:]` is the same `B=A[0:len(A)]`, that is, it creates a copy of `A` and stores it in `B`."
   ]
  },
  {
   "cell_type": "markdown",
   "metadata": {},
   "source": [
    "### P1\n",
    "\n",
    "1. O(n)\n",
    "2. O(1)\n",
    "3. O(nlog(n))\n",
    "4. O(2^n)\n",
    "5. O(n^3)\n",
    "\n",
    "### P2. \n",
    "- Copying the array to B is O(n),\n",
    "- selectionSort is O(n^2), as we look through all the elements remaining each time giving us\n",
    "n + (n-1) + (n-2) + ... + 1 = n(n+1)/2 time\n",
    "- and the for loop is also O(n),\n",
    "- O(n^2) dominates the expression so it's the worst case time complexity"
   ]
  },
  {
   "cell_type": "markdown",
   "metadata": {},
   "source": [
    "## Question 2\n",
    "\n",
    "Write a version of insertion sort that works constructively, i.e. returns a new sorted array and leaves the original array unchanged.\n",
    "\n",
    "For example, if we call this version `insertionSortC`, and run the following code\n",
    "\n",
    "    A = [30, 25, 67, 99, 8, 16, 28, 63, 12, 20]\n",
    "    B = insertionSortC(A1)\n",
    "    print(\"Original array is: \",A)\n",
    "    print(\"Sorted is: \",B)\n",
    "we get this printout:\n",
    "\n",
    "    Original array is:  [30, 25, 67, 99, 8, 16, 28, 63, 12, 20]\n",
    "    Sorted is:  [8, 12, 16, 20, 25, 28, 30, 63, 67, 99]\n",
    "    \n",
    "Test your code in at least 5 arrays of your choosing, including the empty array."
   ]
  },
  {
   "cell_type": "code",
   "execution_count": 1,
   "metadata": {},
   "outputs": [
    {
     "name": "stdout",
     "output_type": "stream",
     "text": [
      "[1, 2, 3, 4, 5]\n",
      "[-12, 0, 4, 324, 623]\n",
      "[]\n",
      "[1]\n",
      "[0, 0, 0]\n"
     ]
    }
   ],
   "source": [
    "def insertionSortC(A):\n",
    "    if len(A) <= 1:\n",
    "        return A\n",
    "    sorted_array = [A[0]]\n",
    "\n",
    "    for i in range(1, len(A)):\n",
    "        for j in range(len(sorted_array)):\n",
    "            if A[i] < sorted_array[j]:\n",
    "                sorted_array.insert(j, A[i])\n",
    "                break\n",
    "            if j == len(sorted_array) - 1:\n",
    "                sorted_array.append(A[i])\n",
    "    return sorted_array\n",
    "\n",
    "\n",
    "test_arrays = [[1, 2, 3, 4, 5], [623,4,324,0,-12], [], [1], [0, 0, 0]]\n",
    "for array in test_arrays:\n",
    "    print(insertionSortC(array))"
   ]
  },
  {
   "cell_type": "markdown",
   "metadata": {},
   "source": [
    "## Question 3\n",
    "\n",
    "For this question you may use Python's built-in function for producing random numbers. If you import Python's built-in module `random` by calling:\n",
    "\n",
    "    import random\n",
    "\n",
    "then `random.randint(low,high)` will return a random integer in the range `low` to `high` inclusive (i.e. an integer with an equal chance of it being any of the numbers in that range). Use this to write a Python function:\n",
    "\n",
    "    def randomIntArray(s,n)\n",
    "\n",
    "which returns an array of length `s` that in each position has a random integer in the range `0` to `n`.\n",
    "\n",
    "For example, running `randomIntArray(5,10)` we may get back the array `[6, 2, 3, 9, 1]`, or `[6, 10, 6, 1, 1]`, etc."
   ]
  },
  {
   "cell_type": "code",
   "execution_count": 2,
   "metadata": {},
   "outputs": [],
   "source": [
    "import random\n",
    "\n",
    "def randomIntArray(s, n):\n",
    "    \"\"\"\n",
    "    Args:\n",
    "    s - size of the array\n",
    "    n - range of the random numbers from 0 to n\n",
    "\n",
    "    Returns:\n",
    "    array of size s with random numbers from 0 to n\n",
    "    \"\"\"\n",
    "    return [random.randint(0, n) for i in range(s)]"
   ]
  },
  {
   "cell_type": "markdown",
   "metadata": {},
   "source": [
    "## Question 4\n",
    "\n",
    "Python's built-in function `time()` in the module `time` returns the current time in the form of the number of seconds since 0.00am on 1st January 1970. So, code of the form:\n",
    "\n",
    "    t = time.time()\n",
    "    <operation>\n",
    "    t = time.time()-t\n",
    "    \n",
    "will set `t` to the time it takes to perform `<operation>`. As `time.time()` returns a floating point number rather than an integer, this could be a fraction of a second.\n",
    "\n",
    "Use this to write a Python function:\n",
    "\n",
    "    def appendTime(A,v)\n",
    "which takes an array `A` a value `v` as input and creates a new array with the same elements as `A` but with `v` appended at its end (for example, you can use the code of the function `append` that we saw in Lecture 1). The function then returns the new array and the time it took to create it. For example:\n",
    "\n",
    "    A = [30, 25, 67, 99, 8, 16, 28, 63, 12, 20]\n",
    "    (B,t) = appendTime(A,42)\n",
    "    print(\"Time taken to append is: \",t)\n",
    "    print(\"The new array is: \",B)\n",
    "\n",
    "we can get the printout:\n",
    "\n",
    "    Time taken to append is:  8.58306884765625e-06\n",
    "    The new array is:  [30, 25, 67, 99, 8, 16, 28, 63, 12, 20, 42]\n",
    "Test your code in at least 5 arrays, with lengths 0, 10, 100, 1000 and 10000 respectively."
   ]
  },
  {
   "cell_type": "code",
   "execution_count": 3,
   "metadata": {},
   "outputs": [
    {
     "name": "stdout",
     "output_type": "stream",
     "text": [
      "Time taken to append is:  2.384185791015625e-07\n",
      "Time taken to append is:  2.384185791015625e-07\n",
      "Time taken to append is:  2.384185791015625e-07\n",
      "Time taken to append is:  0.0\n",
      "Time taken to append is:  2.384185791015625e-07\n"
     ]
    }
   ],
   "source": [
    "import time\n",
    "\n",
    "def appendTime(A,v):\n",
    "    \"\"\"\n",
    "    Args:\n",
    "    A - array\n",
    "    v - value\n",
    "\n",
    "    Returns:\n",
    "    (B, t) - a tuple of the appended array and the time taken\n",
    "    \"\"\"\n",
    "    t1 = time.time()\n",
    "    B = A.append(v)\n",
    "    t2 = time.time() - t1\n",
    "    return (B, t2)\n",
    "\n",
    "tests = (randomIntArray(i,100) for i in [0,10,100,1000,10000])\n",
    "for A in tests:\n",
    "    (B,t) = appendTime(A,42)\n",
    "    print(\"Time taken to append is: \",t)"
   ]
  },
  {
   "cell_type": "markdown",
   "metadata": {},
   "source": [
    "## Question 5\n",
    "\n",
    "Write a Python method:\n",
    "\n",
    "    def sortTimeUsing(sortf,A)\n",
    "    \n",
    "which returns the time taken to sort the array `A`, but does the sorting using the sorting function\n",
    "passed as argument `sortf`. This uses the concept of passing a function as an\n",
    "argument that was introduced in Question 6 of Lab 1.\n",
    "\n",
    "Use this to compare the time taken to sort using selection sort\n",
    "with the time taken to sort using insertion sort, the code of which you can find on the\n",
    "lecture slides, on some example arrays."
   ]
  },
  {
   "cell_type": "code",
   "execution_count": 4,
   "metadata": {},
   "outputs": [
    {
     "name": "stdout",
     "output_type": "stream",
     "text": [
      "Selection Sort Time: 4.76837158203125e-06\n",
      "Insertion Sort Time: 4.291534423828125e-06\n"
     ]
    }
   ],
   "source": [
    "import time\n",
    "\n",
    "def sortTimeUsing(sortf, A):\n",
    "    start_time = time.time()\n",
    "    sortf(A)\n",
    "    end_time = time.time()\n",
    "    return end_time - start_time\n",
    "\n",
    "def SelectionSort(A):\n",
    "    for i in range(len(A)):\n",
    "        min_index = i\n",
    "        for j in range(i + 1, len(A)):\n",
    "            if A[j] < A[min_index]:\n",
    "                min_index = j\n",
    "            A[i], A[min_index] = A[min_index], A[i]\n",
    "\n",
    "\n",
    "def InsertionSort(A):\n",
    "    for i in range(1, len(A)):\n",
    "        if A[i] < A[i-1]:\n",
    "            j = i\n",
    "            while j > 0 and A[j] < A[j-1]:\n",
    "                A[j], A[j-1] = A[j-1], A[j]\n",
    "                j -= 1\n",
    "    return A\n",
    "\n",
    "array1 = [64, 25, 12, 22, 11]\n",
    "array2 = [64, 25, 12, 22, 11]\n",
    "\n",
    "time_selection_sort = sortTimeUsing(SelectionSort, array1)\n",
    "time_insertion_sort = sortTimeUsing(InsertionSort, array2)\n",
    "\n",
    "print(f\"Selection Sort Time: {time_selection_sort}\")\n",
    "print(f\"Insertion Sort Time: {time_insertion_sort}\")"
   ]
  },
  {
   "cell_type": "markdown",
   "metadata": {},
   "source": [
    "## Question 6\n",
    "\n",
    "Use the method `randomIntArray` from Question 3 to provide arrays to be sorted by\n",
    "`sortTimeUsing`. This will enable you to test how long it takes to sort an array much longer than\n",
    "one you could type in yourself. Then, fill in the following table (but see Note).\n",
    "\n",
    "| array length |  10  | 100 | 1000 | 10<sup>4</sup> | 10<sup>5</sup> | 10<sup>6</sup> |\n",
    "|:------------|------|-----|------|-------|--------|----------------|\n",
    "| selection sort time (sec)| |     |      |       |        |                |\n",
    "| insertion sort time (sec)| |     |      |       |        |                |\n",
    "\n",
    "For each array length, produce a random array of that length, sort it via `sortTimeUsing` using selection sort and insertion sort (make sure you sort the same array twice!), and fill in the table the corresponding times.\n",
    "\n",
    "Note: sorting arrays of length greater than 10<sup>5</sup> may make your computer run out of\n",
    "memory and hang. For that reason, you can skip filling in the last column in the table. If you do want to fill it in, make sure you save everything before and be ready to hard-restart your computer!\n",
    "\n",
    "It would also make sense to stop a test if it runs over a few minutes and fill in “timeout” in\n",
    "the respective column."
   ]
  },
  {
   "cell_type": "code",
   "execution_count": 7,
   "metadata": {},
   "outputs": [
    {
     "name": "stdout",
     "output_type": "stream",
     "text": [
      "Array length 10\n",
      "Selection Sort Time : 4.76837158203125e-06\n",
      "Insertion Sort Time: 3.0994415283203125e-06\n",
      "Array length 100\n",
      "Selection Sort Time : 0.00017976760864257812\n",
      "Insertion Sort Time: 0.00011610984802246094\n",
      "Array length 1000\n",
      "Selection Sort Time : 0.02216172218322754\n",
      "Insertion Sort Time: 0.01528024673461914\n",
      "Array length 10000\n",
      "Selection Sort Time : 2.005911350250244\n",
      "Insertion Sort Time: 1.6648569107055664\n",
      "Array length 10000\n",
      "Selection Sort Time : 1.8753111362457275\n",
      "Insertion Sort Time: 1.5740365982055664\n"
     ]
    }
   ],
   "source": [
    "array_lengths = [10, 100, 1000, 10000, 10000]\n",
    "for length in array_lengths:\n",
    "    random_array = randomIntArray(length, 1000)\n",
    "\n",
    "    time_selection_sort = sortTimeUsing(SelectionSort, random_array.copy())\n",
    "    time_insertion_sort = sortTimeUsing(InsertionSort, random_array.copy())\n",
    "\n",
    "    print(f\"Array length {length}\")\n",
    "    print(f\"Selection Sort Time : {time_selection_sort}\")\n",
    "    print(f\"Insertion Sort Time: {time_insertion_sort}\")\n",
    "    "
   ]
  },
  {
   "cell_type": "markdown",
   "metadata": {},
   "source": [
    "## Question 7\n",
    "\n",
    "Write a version of insertion sort where the `insert` function uses binary search. More precisely, to insert a value `v` in an array `A` where the part `A[:i]` is sorted, the `insert` function will:\n",
    "- use binary search to find the position in `A[:i+1]` where `v` needs to be inserted\n",
    "- move elements from that position one place to the right and insert `v`\n",
    "\n",
    "What is the complexity of this version of insertion sort: O(n<sup>2</sup>) or O(nlogn)?"
   ]
  },
  {
   "cell_type": "code",
   "execution_count": 9,
   "metadata": {},
   "outputs": [
    {
     "name": "stdout",
     "output_type": "stream",
     "text": [
      "[1, 2, 3, 4, 7]\n"
     ]
    }
   ],
   "source": [
    "def binary_search(arr, val, start, end):\n",
    "    while start < end:\n",
    "        mid = (start + end) // 2\n",
    "        if arr[mid] < val:\n",
    "            start = mid + 1\n",
    "        else:\n",
    "            end = mid\n",
    "    return start\n",
    "\n",
    "def insertion_sort(arr):\n",
    "    for i in range(1, len(arr)):\n",
    "        val = arr[i]\n",
    "        pos = binary_search(arr, val, 0, i)\n",
    "\n",
    "        arr.pop(i)\n",
    "        arr.insert(pos, val)\n",
    "    return arr\n",
    "\n",
    "arr = [4, 2, 7, 1, 3]\n",
    "sorted_arr = insertion_sort(arr)\n",
    "print(sorted_arr)\n",
    "\n",
    "# The time complexity is O(nlog(n))"
   ]
  },
  {
   "cell_type": "code",
   "execution_count": null,
   "metadata": {},
   "outputs": [],
   "source": []
  }
 ],
 "metadata": {
  "kernelspec": {
   "display_name": ".venv",
   "language": "python",
   "name": "python3"
  },
  "language_info": {
   "codemirror_mode": {
    "name": "ipython",
    "version": 3
   },
   "file_extension": ".py",
   "mimetype": "text/x-python",
   "name": "python",
   "nbconvert_exporter": "python",
   "pygments_lexer": "ipython3",
   "version": "3.12.6"
  }
 },
 "nbformat": 4,
 "nbformat_minor": 2
}
