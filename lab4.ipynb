{
 "cells": [
  {
   "cell_type": "markdown",
   "metadata": {},
   "source": [
    "# ECS529U Algorithms and Data Structures\n",
    "# Lab sheet 4\n",
    "\n",
    "This fourth lab gets you to work with recursive algorithms and also practically compare the\n",
    "efficiency of more sorting algorithms by testing them on randomly generated arrays.\n",
    "\n",
    "**Marks (max 5):** Questions 1-3: 1 each | Questions 4-7: 0.5 each"
   ]
  },
  {
   "cell_type": "markdown",
   "metadata": {},
   "source": [
    "## Question 1\n",
    "\n",
    "Write a Python function\n",
    "   \n",
    "    def timesOccursIn(k,A)\n",
    "    \n",
    "which which takes an integer and an array of integers and returns the number of times the\n",
    "integer occurs in the array. You must use recursion and no loops for this question.\n",
    "\n",
    "For example, if its arguments are `5` and `[1,2,5,3,6,5,3,5,5,4]` the function should return `4`.\n",
    "\n",
    "_Hint:_ Suppose `A` is not empty. If the first element of `A` is in fact `k`, the number of times that `k`\n",
    "occurs in `A` is “1 + the number of times it occurs in `A[1:]`”. Otherwise, it is the same as the\n",
    "number of times it occurs in `A[1:]`. On the other hand, if `A` is the empty array `[]` then `k`\n",
    "occurs 0 times in it."
   ]
  },
  {
   "cell_type": "code",
   "execution_count": 1,
   "metadata": {},
   "outputs": [
    {
     "name": "stdout",
     "output_type": "stream",
     "text": [
      "4\n"
     ]
    }
   ],
   "source": [
    "def timesOccursIn(k,A):\n",
    "    if len(A) == 0:\n",
    "        return 0\n",
    "    if A[0] == k:\n",
    "        return timesOccursIn(k, A[1:]) + 1\n",
    "    else:\n",
    "        return timesOccursIn(k, A[1:])\n",
    "    \n",
    "print(timesOccursIn(5, [1,2,5,3,6,5,3,5,5,4]))"
   ]
  },
  {
   "cell_type": "markdown",
   "metadata": {},
   "source": [
    "## Question 2\n",
    "Write a Python function\n",
    "\n",
    "    def multArray(A,k)\n",
    "\n",
    "which takes an array `A` of integers and an integer `k` and changes `A` by multiplying each of\n",
    "its elements by `k`. You must use recursion and no loops for this question.\n",
    "For example, if it takes the array `[5,12,31,7,25]` and the integer `10`, it changes the \n",
    "array so that it becomes `[50,120,310,70,250]`.\n",
    "\n",
    "_Hint:_ The following “solution” will not work, as each recursive call creates a new copy of A\n",
    "so the original A is not changed.\n",
    "\n",
    "    def multAllNope(k,A):\n",
    "        if A == []: return\n",
    "        A[0] = A[0]*k\n",
    "        return multAllNope(k,A[1:])        \n",
    "Instead, the trick to do this is to define an auxiliary function `multAllRec(k,A,i)` which multiplies all elements of `A[i:]` by `k`. This function can then be defined with recursion."
   ]
  },
  {
   "cell_type": "code",
   "execution_count": 2,
   "metadata": {},
   "outputs": [
    {
     "name": "stdout",
     "output_type": "stream",
     "text": [
      "[30, 50, 120, 9090, 20, 10, 0]\n"
     ]
    }
   ],
   "source": [
    "def multArray(A, k):\n",
    "    def multArrayRec(A, k, i):\n",
    "        if i == len(A): return\n",
    "        A[i] = A[i] * k\n",
    "        return multArrayRec(A, k, i + 1)\n",
    "    i = 0\n",
    "    multArrayRec(A, k, i)\n",
    "\n",
    "array = [3, 5, 12, 909, 2, 1, 0]\n",
    "multArray(array, 10); print(array)"
   ]
  },
  {
   "cell_type": "markdown",
   "metadata": {},
   "source": [
    "## Question 3\n",
    "\n",
    "Using recursion, write a Python function\n",
    "\n",
    "    def printArray(A)\n",
    "    \n",
    "that prints the elements of `A`, in order, one element per line.\n",
    "\n",
    "Now, using recursion, write a Python function\n",
    "\n",
    "    def printArrayRev(A)\n",
    "    \n",
    "that prints the elements of `A`, in reversed order, one element per line."
   ]
  },
  {
   "cell_type": "code",
   "execution_count": 3,
   "metadata": {},
   "outputs": [
    {
     "name": "stdout",
     "output_type": "stream",
     "text": [
      "3\n",
      "5\n",
      "12\n",
      "909\n",
      "2\n",
      "1\n",
      "0\n",
      "\n",
      "0\n",
      "1\n",
      "2\n",
      "909\n",
      "12\n",
      "5\n",
      "3\n"
     ]
    }
   ],
   "source": [
    "def printArray(A):\n",
    "    def printArrayRec(A, i=0):\n",
    "        if i == len(A):\n",
    "            return\n",
    "        print(f\"{A[i]}\")\n",
    "        return printArrayRec(A, i+1)\n",
    "    i = 0\n",
    "    printArrayRec(A, i)\n",
    "\n",
    "def printArrayRev(A):\n",
    "    def printArrayRevRec(A, i=0):\n",
    "        if i < 0:\n",
    "            return\n",
    "        print(f\"{A[i]}\")\n",
    "        return printArrayRevRec(A, i-1)\n",
    "    i = len(A) - 1\n",
    "    printArrayRevRec(A, i)\n",
    "\n",
    "array = [3, 5, 12, 909, 2, 1, 0]\n",
    "printArray(array); print()\n",
    "printArrayRev(array)"
   ]
  },
  {
   "cell_type": "markdown",
   "metadata": {},
   "source": [
    "## Question 4\n",
    "\n",
    "Using recursion, write a Python function\n",
    "\n",
    "    def binSearch2(A,k)\n",
    "    \n",
    "which searches for `k` in `A` using binary search (see Lecture 1)."
   ]
  },
  {
   "cell_type": "code",
   "execution_count": 4,
   "metadata": {},
   "outputs": [
    {
     "data": {
      "text/plain": [
       "2"
      ]
     },
     "execution_count": 4,
     "metadata": {},
     "output_type": "execute_result"
    }
   ],
   "source": [
    "def binSearch(A, k):\n",
    "    lo = 0\n",
    "    hi = len(A) - 1\n",
    "    while lo <= hi:\n",
    "        mid = (lo + hi) // 2\n",
    "        if A[mid] < k:\n",
    "            lo = mid + 1\n",
    "        elif A[mid] > k:\n",
    "            hi = mid - 1\n",
    "        else:\n",
    "            return mid\n",
    "    return -1\n",
    "\n",
    "array = [3, 5, 12, 909, 2, 1, 0]\n",
    "binSearch(array, 12)"
   ]
  },
  {
   "cell_type": "markdown",
   "metadata": {},
   "source": [
    "## Question 5\n",
    "\n",
    "Using your solution to Question 5 from Lab 3, compare the four sorting functions we saw\n",
    "(selection, insertion, merge and quick sort) using random arrays and fill in the table below.\n",
    "For each array length, produce 5 random arrays to test the sorting functions and fill in the\n",
    "corresponding cell the average running time (in seconds) for each function. You can copy\n",
    "and paste the sorting code from the lecture slides.\n",
    "\n",
    "| array length |  10  | 100 | 1000 | 10<sup>4</sup> | 10<sup>5</sup> |\n",
    "|:------------|------|-----|------|-------|--------|\n",
    "| selection sort time (sec)| |     |      |       |        |                \n",
    "| insertion sort time (sec)| |     |      |       |        |                \n",
    "| merge sort time (sec)| |     |      |       |        |                \n",
    "| quicksort time (sec)| |     |      |       |        |                \n"
   ]
  },
  {
   "cell_type": "code",
   "execution_count": 5,
   "metadata": {},
   "outputs": [
    {
     "name": "stdout",
     "output_type": "stream",
     "text": [
      "Array length: 10\n",
      "Selection sort: 5.7220458984375e-06\n",
      "Insertion sort: 4.291534423828125e-06\n",
      "Merge sort: 9.775161743164062e-06\n",
      "Quick sort: 8.821487426757812e-06\n",
      "\n",
      "Array length: 100\n",
      "Selection sort: 8.320808410644531e-05\n",
      "Insertion sort: 0.00012063980102539062\n",
      "Merge sort: 7.033348083496094e-05\n",
      "Quick sort: 6.031990051269531e-05\n",
      "\n",
      "Array length: 1000\n",
      "Selection sort: 0.009358882904052734\n",
      "Insertion sort: 0.015102148056030273\n",
      "Merge sort: 0.0008924007415771484\n",
      "Quick sort: 0.0008959770202636719\n",
      "\n",
      "Array length: 10000\n",
      "Selection sort: 0.9048287868499756\n",
      "Insertion sort: 1.538487434387207\n",
      "Merge sort: 0.00991058349609375\n",
      "Quick sort: 0.013793468475341797\n",
      "\n"
     ]
    }
   ],
   "source": [
    "import random\n",
    "import time\n",
    "\n",
    "def selection_sort(A):\n",
    "    for i in range(len(A)):\n",
    "        min_val_index = i\n",
    "        for j in range(i + 1, len(A)):\n",
    "            if A[j] < A[min_val_index]:\n",
    "                min_val_index = j\n",
    "        A[i], A[min_val_index] = A[min_val_index], A[i]\n",
    "\n",
    "###################################################################\n",
    "\n",
    "def insertion_sort(A):\n",
    "    for i in range(1, len(A)):\n",
    "        if A[i] < A[i - 1]:\n",
    "            j = i\n",
    "            while A[j] < A[j - 1] and j > 0:\n",
    "                A[j], A[j - 1] = A[j - 1], A[j]\n",
    "                j -= 1\n",
    "\n",
    "###################################################################\n",
    "\n",
    "def merge_sort(A):\n",
    "    if len(A) <= 1: return\n",
    "    mid = len(A) // 2\n",
    "    h1 = A[:mid]\n",
    "    h2 = A[mid:]\n",
    "    merge_sort(h1)\n",
    "    merge_sort(h2)\n",
    "    merge(A, h1, h2)\n",
    "\n",
    "def merge(A, h1, h2):\n",
    "    j = j1 = j2 = 0\n",
    "\n",
    "    while j1 < len(h1) and j2 < len(h2):\n",
    "        if h1[j1] < h2[j2]:\n",
    "            A[j] = h1[j1]\n",
    "            j1 += 1\n",
    "        else:\n",
    "            A[j] = h2[j2]\n",
    "            j2 += 1\n",
    "        j += 1\n",
    "\n",
    "    while j1 < len(h1):\n",
    "        A[j] = h1[j1]\n",
    "        j1 += 1\n",
    "        j += 1\n",
    "\n",
    "    while j2 < len(h2):\n",
    "        A[j] = h2[j2]\n",
    "        j2 += 1\n",
    "        j += 1\n",
    "        \n",
    "\n",
    "###################################################################\n",
    "\n",
    "def quick_sort(A):\n",
    "    lo = 0\n",
    "    hi = len(A)\n",
    "\n",
    "    def quick_sort_rec(A, lo, hi):\n",
    "        if hi - lo <= 1: return\n",
    "        pivot = partition(A, lo, hi)\n",
    "        quick_sort_rec(A, lo, pivot)\n",
    "        quick_sort_rec(A, pivot + 1, hi)\n",
    "\n",
    "    quick_sort_rec(A, lo, hi)\n",
    "\n",
    "def partition(A, lo, hi):\n",
    "    pivot = A[lo]\n",
    "    B = [None for x in range(lo, hi)]\n",
    "    loB = 0\n",
    "    hiB = len(B) - 1\n",
    "\n",
    "    for i in range(lo + 1, hi):\n",
    "        if A[i] < pivot:\n",
    "            B[loB] = A[i]\n",
    "            loB += 1\n",
    "        else:\n",
    "            B[hiB] = A[i]\n",
    "            hiB -= 1\n",
    "    B[loB] = pivot\n",
    "\n",
    "    for i in range(len(B)):\n",
    "        A[lo + i] = B[i]\n",
    "    \n",
    "    return lo + loB\n",
    "\n",
    "###################################################################\n",
    "\n",
    "def time_sort(sortf, array):\n",
    "    t1 = time.time()\n",
    "    sortf(array)\n",
    "    t2 = time.time()\n",
    "    return t2 - t1\n",
    "\n",
    "array_lengths = [10, 100, 1000, 10000]\n",
    "for length in array_lengths:\n",
    "    array = [random.randint(0,1000) for x in range(length)]\n",
    "\n",
    "    time_selection_sort = time_sort(selection_sort, array.copy())\n",
    "    time_insertion_sort = time_sort(insertion_sort, array.copy())\n",
    "    time_merge_sort = time_sort(merge_sort, array.copy())\n",
    "    time_quick_sort = time_sort(quick_sort, array.copy())\n",
    "    \n",
    "    print(f\"Array length: {length}\")\n",
    "    print(f\"Selection sort: {time_selection_sort}\")\n",
    "    print(f\"Insertion sort: {time_insertion_sort}\")\n",
    "    print(f\"Merge sort: {time_merge_sort}\")\n",
    "    print(f\"Quick sort: {time_quick_sort}\")\n",
    "    print()\n"
   ]
  },
  {
   "cell_type": "markdown",
   "metadata": {},
   "source": [
    "## Question 6\n",
    "\n",
    "Consider this `Script` class:\n",
    "    \n",
    "    class Script:\n",
    "        def __init__(self, sid, mark):\n",
    "            self.sid = sid\n",
    "            self.mark = mark\n",
    "        \n",
    "        def __str__(self):\n",
    "            return \"Script\"+str((self.sid,self.mark))    \n",
    "\n",
    "Using recursion, write a Python function\n",
    "\n",
    "    def filter(A,f)\n",
    "    \n",
    "which takes an array `A` of `Script` objects and a function `f` that takes a `Script` as input and returns a boolean. We call such a function a _filter_ as it allows us to filter `A` as follows. `filter(A,f)` should return a new array of `Script`'s\n",
    "which consists of those `Script`'s in `A` who \"pass\" the filter `f`, that is, when `f` is applied to those `Script`'s it returns `True`. The order of elements in the new array should be the same as in `A` (excluding filtered-out elements).\n",
    "\n",
    "For example, the following code (see also Question 3)\n",
    "\n",
    "    def passes(s):\n",
    "        return s.mark>=40\n",
    "\n",
    "    A = [Script(0,0), Script(1000,57), Script(2000,63), Script(3000,34), Script(4000,79), Script(5000,22), Script(6000,17), Script(7000,40), Script(8000,39), Script(9000,96)]\n",
    "    printArray(filter(A,passes))\n",
    "\n",
    "should return\n",
    "\n",
    "    Script(1000, 57)\n",
    "    Script(2000, 63)\n",
    "    Script(4000, 79)\n",
    "    Script(7000, 40)\n",
    "    Script(9000, 96)\n",
    "\n",
    "You can use the `append` method we defined in earlier weeks (even if not recursive)."
   ]
  },
  {
   "cell_type": "code",
   "execution_count": 6,
   "metadata": {},
   "outputs": [
    {
     "name": "stdout",
     "output_type": "stream",
     "text": [
      "Script(1000, 57)\n",
      "Script(2000, 63)\n",
      "Script(4000, 79)\n",
      "Script(7000, 40)\n",
      "Script(9000, 96)\n"
     ]
    }
   ],
   "source": [
    "class Script:\n",
    "    def __init__(self, sid, mark):\n",
    "        self.sid = sid\n",
    "        self.mark = mark\n",
    "    \n",
    "    def __str__(self):\n",
    "        return \"Script\"+str((self.sid,self.mark))\n",
    "    \n",
    "def passes(s):\n",
    "    return s.mark>=40\n",
    "\n",
    "def filter(A, f):\n",
    "    \"\"\"\n",
    "    Args:\n",
    "    A - an array of script objects\n",
    "    f - a filter function that takes a script as an input and returns a boolean\n",
    "    \"\"\"\n",
    "    passing_scripts = []\n",
    "    for script in A:\n",
    "        if f(script):\n",
    "            passing_scripts.append(script)\n",
    "    return passing_scripts\n",
    "\n",
    "A = [Script(0,0), Script(1000,57), Script(2000,63), Script(3000,34), Script(4000,79),\n",
    "      Script(5000,22), Script(6000,17), Script(7000,40), Script(8000,39), Script(9000,96)]\n",
    "\n",
    "printArray(filter(A,passes))"
   ]
  },
  {
   "cell_type": "markdown",
   "metadata": {},
   "source": [
    "## Question 7\n",
    "\n",
    "Write a Python function\n",
    "\n",
    "    def isSubArray(A,B)\n",
    "    \n",
    "which takes two arrays and returns `True` if the first array is a (contiguous) subarray of the\n",
    "second array, otherwise it returns `False`. You may solve this problem using recursion or\n",
    "iteration or a mixture of recursion and iteration.\n",
    "\n",
    "For an array to be a subarray of another, it must occur entirely within the other one without\n",
    "other elements in between. For example:\n",
    "- `[31,7,25]` is a subarray of `[10,20,26,31,7,25,40,9]`\n",
    "- `[26,31,25,40]` is not a subarray of `[10,20,26,31,7,25,40,9]`\n",
    "\n",
    "_Hint_: A good way of solving this problem is to make use of an auxiliary function that takes\n",
    "two arrays and returns True if the contents of the first array occur at the front of the second\n",
    "array, otherwise it returns False. Then, A is a subarray of B if it occurs at the front of B, or at the front of B[1:], or at the front of B[2:], etc. Note you should not use A == B for arrays."
   ]
  },
  {
   "cell_type": "code",
   "execution_count": 7,
   "metadata": {},
   "outputs": [
    {
     "name": "stdout",
     "output_type": "stream",
     "text": [
      "True\n",
      "False\n"
     ]
    }
   ],
   "source": [
    "def isSubArray(A, B):\n",
    "\n",
    "    def arrayIsEqual(A, B):\n",
    "        for i in range(len(A)):\n",
    "            if A[i] != B[i]:\n",
    "                return False\n",
    "        return True\n",
    "    \n",
    "    if len(A) >= len(B):\n",
    "        return False\n",
    "    \n",
    "    if arrayIsEqual(A, B):\n",
    "        return True\n",
    "    \n",
    "    return isSubArray(A, B[1:])\n",
    "    \n",
    "sub_array1 = [31,7,25] \n",
    "full_array1 = [10,20,26,31,7,25,40,9]\n",
    "\n",
    "sub_array2 = [26,31,25,40]\n",
    "full_array2 = [10,20,26,31,7,25,40,9]\n",
    "\n",
    "print(isSubArray(sub_array1, full_array1))\n",
    "print(isSubArray(sub_array2, full_array2))"
   ]
  },
  {
   "cell_type": "code",
   "execution_count": null,
   "metadata": {},
   "outputs": [],
   "source": []
  }
 ],
 "metadata": {
  "kernelspec": {
   "display_name": ".venv",
   "language": "python",
   "name": "python3"
  },
  "language_info": {
   "codemirror_mode": {
    "name": "ipython",
    "version": 3
   },
   "file_extension": ".py",
   "mimetype": "text/x-python",
   "name": "python",
   "nbconvert_exporter": "python",
   "pygments_lexer": "ipython3",
   "version": "3.12.7"
  }
 },
 "nbformat": 4,
 "nbformat_minor": 2
}
