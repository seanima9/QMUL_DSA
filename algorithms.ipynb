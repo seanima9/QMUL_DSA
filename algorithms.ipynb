{
 "cells": [
  {
   "cell_type": "markdown",
   "metadata": {},
   "source": [
    "# Code implementations for content covered in ECS529U Algorithms and Data Structures "
   ]
  },
  {
   "cell_type": "markdown",
   "metadata": {},
   "source": [
    "## Algorithms"
   ]
  },
  {
   "cell_type": "markdown",
   "metadata": {},
   "source": [
    "### Linear Search"
   ]
  },
  {
   "cell_type": "code",
   "execution_count": 1,
   "metadata": {},
   "outputs": [
    {
     "name": "stdout",
     "output_type": "stream",
     "text": [
      "152 is found at position 5 in this array:\n",
      "[468, 962, 6, 733, 599, 152, 405, 508, 807, 275, 110, 552, 634, 446, 174, 916, 93, 411, 780, 235]\n"
     ]
    }
   ],
   "source": [
    "import random\n",
    "\n",
    "def linear_search(A, v):\n",
    "    found = -1\n",
    "    for i in range(len(A)):\n",
    "        if A[i] == v:\n",
    "            found = i\n",
    "            break\n",
    "    return found\n",
    "\n",
    "array = [random.randint(1, 1000) for _ in range(20)]\n",
    "value = array[5]\n",
    "position = linear_search(array, value)\n",
    "\n",
    "print(f\"{value} is found at position {position} in this array:\\n{array}\")"
   ]
  },
  {
   "cell_type": "markdown",
   "metadata": {},
   "source": [
    "### Binary Search"
   ]
  },
  {
   "cell_type": "code",
   "execution_count": 2,
   "metadata": {},
   "outputs": [
    {
     "name": "stdout",
     "output_type": "stream",
     "text": [
      "151 is found at position 5 in this array:\n",
      "[29, 70, 87, 91, 104, 151, 202, 260, 356, 464, 489, 664, 682, 787, 830, 863, 871, 891, 942, 978]\n"
     ]
    }
   ],
   "source": [
    "def binary_search(A, v):\n",
    "    low = 0\n",
    "    high = len(A) - 1\n",
    "\n",
    "    while low <= high:\n",
    "        mid = low + (high - low) // 2\n",
    "        if A[mid] == v:\n",
    "            return mid\n",
    "        elif A[mid] > v:\n",
    "            high = mid - 1\n",
    "        else:\n",
    "            low = mid + 1\n",
    "\n",
    "    return -1\n",
    "\n",
    "array = [random.randint(1, 1000) for _ in range(20)]\n",
    "array.sort()\n",
    "value = array[5]\n",
    "position = binary_search(array, value)\n",
    "\n",
    "print(f\"{value} is found at position {position} in this array:\\n{array}\")"
   ]
  },
  {
   "cell_type": "markdown",
   "metadata": {},
   "source": [
    "### Insertion Sort"
   ]
  },
  {
   "cell_type": "code",
   "execution_count": 3,
   "metadata": {},
   "outputs": [
    {
     "name": "stdout",
     "output_type": "stream",
     "text": [
      "[267, 649, 612, 895, 519, 245, 741, 16, 70, 536, 656, 375, 723, 235, 784, 74, 22, 758, 517, 918]\n",
      "[16, 22, 70, 74, 235, 245, 267, 375, 517, 519, 536, 612, 649, 656, 723, 741, 758, 784, 895, 918]\n"
     ]
    }
   ],
   "source": [
    "def insertion_sort(A):\n",
    "    for i in range(1, len(A)):\n",
    "        if A[i] < A[i - 1]:\n",
    "            j = i\n",
    "            while A[j] < A[j - 1] and 0 < j:\n",
    "                A[j], A[j -1] = A[j-1], A[j]\n",
    "                j -= 1\n",
    "\n",
    "array = [random.randint(1, 1000) for _ in range(20)]\n",
    "\n",
    "print(array)\n",
    "insertion_sort(array); print(array)"
   ]
  },
  {
   "cell_type": "markdown",
   "metadata": {},
   "source": [
    "### Selection Sort"
   ]
  },
  {
   "cell_type": "code",
   "execution_count": 4,
   "metadata": {},
   "outputs": [
    {
     "name": "stdout",
     "output_type": "stream",
     "text": [
      "[353, 781, 727, 155, 892, 362, 445, 921, 231, 543, 38, 846, 839, 991, 488, 974, 618, 578, 375, 226]\n",
      "[38, 155, 226, 231, 353, 362, 375, 445, 488, 543, 578, 618, 727, 781, 839, 846, 892, 921, 974, 991]\n"
     ]
    }
   ],
   "source": [
    "def selection_sort(A):\n",
    "    for i in range(0, len(A)):\n",
    "        min_value_index = i\n",
    "        for j in range(i + 1, len(A)):\n",
    "            if A[j] < A[min_value_index]:\n",
    "                min_value_index = j\n",
    "        A[i], A[min_value_index] = A[min_value_index], A[i]\n",
    "    return A\n",
    "\n",
    "array = [random.randint(1, 1000) for _ in range(20)]\n",
    "\n",
    "print(array)\n",
    "selection_sort(array); print(array)"
   ]
  },
  {
   "cell_type": "markdown",
   "metadata": {},
   "source": [
    "### Bubble Sort"
   ]
  },
  {
   "cell_type": "code",
   "execution_count": 5,
   "metadata": {},
   "outputs": [
    {
     "name": "stdout",
     "output_type": "stream",
     "text": [
      "[33, 356, 887, 56, 296, 24, 20, 42, 999, 726, 614, 637, 496, 615, 224, 153, 745, 267, 186, 943]\n",
      "[20, 24, 33, 42, 56, 153, 186, 224, 267, 296, 356, 496, 614, 615, 637, 726, 745, 887, 943, 999]\n"
     ]
    }
   ],
   "source": [
    "def bubble_sort(A):\n",
    "    n = len(A)\n",
    "    for i in range(n):\n",
    "        swapped = False\n",
    "        for j in range(0, n-i-1):\n",
    "            if A[j] > A[j+1]:\n",
    "                A[j], A[j+1] = A[j+1], A[j]\n",
    "                swapped = True\n",
    "        if not swapped:\n",
    "            break\n",
    "    return A\n",
    "\n",
    "array = [random.randint(1, 1000) for _ in range(20)]\n",
    "\n",
    "print(array)\n",
    "bubble_sort(array); print(array)"
   ]
  },
  {
   "cell_type": "markdown",
   "metadata": {},
   "source": [
    "### Merge Sort"
   ]
  },
  {
   "cell_type": "code",
   "execution_count": 6,
   "metadata": {},
   "outputs": [
    {
     "name": "stdout",
     "output_type": "stream",
     "text": [
      "[809, 809, 411, 526, 11, 734, 672, 304, 336, 400, 666, 338, 517, 563, 460, 281, 847, 75, 316, 920]\n",
      "[11, 75, 281, 304, 316, 336, 338, 400, 411, 460, 517, 526, 563, 666, 672, 734, 809, 809, 847, 920]\n"
     ]
    }
   ],
   "source": [
    "def merge_sort(A):\n",
    "    if len(A) <= 1:\n",
    "        return\n",
    "    mid = len(A) // 2\n",
    "    half1 = A[:mid]\n",
    "    half2 = A[mid:]\n",
    "    merge_sort(half1)\n",
    "    merge_sort(half2)\n",
    "    merge(half1, half2, A)\n",
    "\n",
    "def merge(h1, h2, A):\n",
    "    j1 = j2 = j = 0\n",
    "    while j1 < len(h1) and j2 < len(h2):\n",
    "        if h1[j1] < h2[j2]:\n",
    "            A[j] = h1[j1]\n",
    "            j1 += 1\n",
    "        else:\n",
    "            A[j] = h2[j2]\n",
    "            j2 += 1\n",
    "        j += 1\n",
    "    while j1 < len(h1):\n",
    "        A[j] = h1[j1]\n",
    "        j1 += 1\n",
    "        j += 1\n",
    "    while j2 < len(h2):\n",
    "        A[j] = h2[j2]\n",
    "        j2 += 1\n",
    "        j += 1\n",
    "\n",
    "array = [random.randint(1, 1000) for _ in range(20)]\n",
    "\n",
    "print(array)\n",
    "bubble_sort(array); print(array)"
   ]
  },
  {
   "cell_type": "markdown",
   "metadata": {},
   "source": [
    "### Quick Sort"
   ]
  },
  {
   "cell_type": "code",
   "execution_count": 7,
   "metadata": {},
   "outputs": [
    {
     "name": "stdout",
     "output_type": "stream",
     "text": [
      "[480, 243, 190, 379, 19, 374, 759, 260, 783, 89, 434, 105, 458, 508, 897, 184, 522, 741, 763, 134]\n",
      "[19, 89, 105, 134, 184, 190, 243, 260, 374, 379, 434, 458, 480, 508, 522, 741, 759, 763, 783, 897]\n"
     ]
    }
   ],
   "source": [
    "def quick_sort(A, lo, hi):\n",
    "    if hi - lo <= 1: return\n",
    "    pivot = partition(A, lo, hi)\n",
    "    quick_sort(A, lo, pivot)\n",
    "    quick_sort(A, pivot + 1, hi)\n",
    "\n",
    "def partition(A, lo, hi):\n",
    "    pivot = A[lo]\n",
    "    B = [0 for _ in range(lo, hi)]\n",
    "    loB = 0\n",
    "    hiB = len(B) - 1\n",
    "    for i in range(lo+1, hi):\n",
    "        if A[i] < pivot:\n",
    "            B[loB] = A[i]\n",
    "            loB += 1\n",
    "        else:\n",
    "            B[hiB] = A[i]\n",
    "            hiB -= 1\n",
    "    B[loB] = pivot\n",
    "\n",
    "    for i in range(len(B)):\n",
    "        A[lo+i] = B[i]\n",
    "    return lo + loB\n",
    "\n",
    "array = [random.randint(1, 1000) for _ in range(20)]\n",
    "\n",
    "print(array)\n",
    "quick_sort(array, 0, len(array)); print(array)"
   ]
  },
  {
   "cell_type": "markdown",
   "metadata": {},
   "source": [
    "- Quick sort has an average time complexity of O(log(n)) but has a worse case time complexity of O(n^2) if we always pick pivots which are the smallest elements, so if the array is already sorted.\n",
    "\n",
    "- Merge sort has an worst case time complexity if O(log(n)).\n",
    "\n",
    "- However in contrast to merge sort the creation of a new array is only temporary as B is discarded when the partition finishes, therefore the total memory used in much less"
   ]
  },
  {
   "cell_type": "markdown",
   "metadata": {},
   "source": [
    "## Data Structures"
   ]
  },
  {
   "cell_type": "markdown",
   "metadata": {},
   "source": [
    "### Array List"
   ]
  },
  {
   "cell_type": "code",
   "execution_count": null,
   "metadata": {},
   "outputs": [],
   "source": [
    "class ArrayList:\n",
    "    pass"
   ]
  },
  {
   "cell_type": "markdown",
   "metadata": {},
   "source": [
    "### Linked List"
   ]
  },
  {
   "cell_type": "code",
   "execution_count": 1,
   "metadata": {},
   "outputs": [],
   "source": [
    "class Node:\n",
    "    def __init__(self, d, n=None):\n",
    "        self.data = d\n",
    "        self.next = n\n",
    "\n",
    "\n",
    "class LinkedList:\n",
    "    def __init__(self):\n",
    "        self.head = None\n",
    "        self.length = 0\n",
    "\n",
    "    def search(self, d):\n",
    "        i = 0\n",
    "        ptr = self.head\n",
    "        while ptr is not None:\n",
    "            if ptr.data == d:\n",
    "                return i\n",
    "            ptr = ptr.next\n",
    "            i += 1\n",
    "        return -1\n",
    "\n",
    "    def append(self, d):\n",
    "        if self.head is None:\n",
    "            self.head = Node(d)\n",
    "        else:\n",
    "            ptr = self.head\n",
    "            while ptr.next is not None:\n",
    "                ptr = ptr.next\n",
    "            ptr.next = Node(d)\n",
    "        self.length += 1\n",
    "\n",
    "    def insert(self, i, d):\n",
    "        if self.head is None or i == 0:\n",
    "            self.head = Node(d, self.head)\n",
    "        else:\n",
    "            ptr = self.head\n",
    "            while i > 1 and ptr.next is not None:\n",
    "                ptr = ptr.next\n",
    "                i -= 1\n",
    "            ptr.next = Node(d, ptr.next)\n",
    "        self.length += 1\n",
    "\n",
    "    def remove(self, i):\n",
    "        if self.head is None:\n",
    "            return None\n",
    "        if i == 0:\n",
    "            val = self.head.data\n",
    "            self.head = self.head.next\n",
    "            self.length -= 1\n",
    "            return val\n",
    "        ptr = self.head\n",
    "        while ptr.next is not None:\n",
    "            if i == 1:\n",
    "                val = ptr.next.data\n",
    "                ptr.next = ptr.next.next\n",
    "                self.length -= 1\n",
    "                return val\n",
    "            ptr = ptr.next\n",
    "            i -= 1\n",
    "        return None\n"
   ]
  },
  {
   "cell_type": "code",
   "execution_count": null,
   "metadata": {},
   "outputs": [],
   "source": []
  }
 ],
 "metadata": {
  "kernelspec": {
   "display_name": ".venv",
   "language": "python",
   "name": "python3"
  },
  "language_info": {
   "codemirror_mode": {
    "name": "ipython",
    "version": 3
   },
   "file_extension": ".py",
   "mimetype": "text/x-python",
   "name": "python",
   "nbconvert_exporter": "python",
   "pygments_lexer": "ipython3",
   "version": "3.12.7"
  }
 },
 "nbformat": 4,
 "nbformat_minor": 2
}
