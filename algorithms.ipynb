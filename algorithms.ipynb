{
 "cells": [
  {
   "cell_type": "markdown",
   "metadata": {},
   "source": [
    "# Code implementations of all algorithms covered in ECS529U Algorithms and Data Structures "
   ]
  },
  {
   "cell_type": "markdown",
   "metadata": {},
   "source": [
    "### Linear Search"
   ]
  },
  {
   "cell_type": "code",
   "execution_count": 1,
   "metadata": {},
   "outputs": [
    {
     "name": "stdout",
     "output_type": "stream",
     "text": [
      "52 is found at position 5 in this array:\n",
      "[638, 866, 71, 714, 657, 52, 872, 342, 852, 76, 6, 757, 526, 393, 633, 423, 353, 709, 209, 54]\n"
     ]
    }
   ],
   "source": [
    "import random\n",
    "\n",
    "def linear_search(A, v):\n",
    "    found = -1\n",
    "    for i in range(len(A)):\n",
    "        if A[i] == v:\n",
    "            found = i\n",
    "            break\n",
    "    return found\n",
    "\n",
    "array = [random.randint(1, 1000) for _ in range(20)]\n",
    "value = array[5]\n",
    "position = linear_search(array, value)\n",
    "\n",
    "print(f\"{value} is found at position {position} in this array:\\n{array}\")"
   ]
  },
  {
   "cell_type": "markdown",
   "metadata": {},
   "source": [
    "### Binary Search"
   ]
  },
  {
   "cell_type": "code",
   "execution_count": 2,
   "metadata": {},
   "outputs": [
    {
     "name": "stdout",
     "output_type": "stream",
     "text": [
      "213 is found at position 5 in this array:\n",
      "[137, 251, 472, 961, 628, 213, 836, 668, 879, 127, 589, 629, 517, 344, 351, 747, 247, 616, 9, 691]\n"
     ]
    }
   ],
   "source": [
    "def binary_search(A, v):\n",
    "    low = 0\n",
    "    high = len(A) - 1\n",
    "\n",
    "    while low <= high:\n",
    "        print(low, high)\n",
    "        mid = (high + low) // 2\n",
    "        if mid == v:\n",
    "            return mid\n",
    "        elif mid > v:\n",
    "            high = mid - 1\n",
    "        else:\n",
    "            low = mid + 1\n",
    "\n",
    "    return -1\n",
    "\n",
    "array = [random.randint(1, 1000) for _ in range(20)]\n",
    "value = array[5]\n",
    "position = linear_search(array, value)\n",
    "\n",
    "print(f\"{value} is found at position {position} in this array:\\n{array}\")"
   ]
  },
  {
   "cell_type": "markdown",
   "metadata": {},
   "source": [
    "### Linear Sort"
   ]
  },
  {
   "cell_type": "code",
   "execution_count": 3,
   "metadata": {},
   "outputs": [
    {
     "name": "stdout",
     "output_type": "stream",
     "text": [
      "[456, 11, 415, 639, 911, 198, 422, 226, 965, 57, 657, 705, 86, 200, 949, 430, 112, 231, 29, 32]\n",
      "[11, 29, 32, 57, 86, 112, 198, 200, 226, 231, 415, 422, 430, 456, 639, 657, 705, 911, 949, 965]\n"
     ]
    }
   ],
   "source": [
    "def insertion_sort(A):\n",
    "    for i in range(1, len(A)):\n",
    "        if A[i] < A[i - 1]:\n",
    "            j = i\n",
    "            while A[j] < A[j - 1] and 0 < j:\n",
    "                A[j], A[j -1] = A[j-1], A[j]\n",
    "                j -= 1\n",
    "\n",
    "array = [random.randint(1, 1000) for _ in range(20)]\n",
    "\n",
    "print(array)\n",
    "insertion_sort(array); print(array)"
   ]
  },
  {
   "cell_type": "markdown",
   "metadata": {},
   "source": [
    "### Selection Sort"
   ]
  },
  {
   "cell_type": "code",
   "execution_count": 4,
   "metadata": {},
   "outputs": [
    {
     "name": "stdout",
     "output_type": "stream",
     "text": [
      "[49, 827, 864, 716, 618, 47, 192, 753, 626, 52, 331, 452, 20, 34, 67, 1000, 342, 521, 531, 853]\n",
      "[20, 34, 47, 49, 52, 67, 192, 331, 342, 452, 521, 531, 618, 626, 716, 753, 827, 853, 864, 1000]\n"
     ]
    }
   ],
   "source": [
    "def selection_sort(A):\n",
    "    for i in range(0, len(A)):\n",
    "        min_value_index = i\n",
    "        for j in range(i + 1, len(A)):\n",
    "            if A[j] < A[min_value_index]:\n",
    "                min_value_index = j\n",
    "        A[i], A[min_value_index] = A[min_value_index], A[i]\n",
    "    return A\n",
    "\n",
    "array = [random.randint(1, 1000) for _ in range(20)]\n",
    "\n",
    "print(array)\n",
    "selection_sort(array); print(array)"
   ]
  },
  {
   "cell_type": "markdown",
   "metadata": {},
   "source": [
    "### Bubble Sort"
   ]
  },
  {
   "cell_type": "code",
   "execution_count": 5,
   "metadata": {},
   "outputs": [
    {
     "name": "stdout",
     "output_type": "stream",
     "text": [
      "[280, 252, 504, 893, 240, 811, 112, 320, 398, 165, 786, 944, 438, 923, 818, 498, 532, 443, 135, 397]\n",
      "[112, 135, 165, 240, 252, 280, 320, 397, 398, 438, 443, 498, 504, 532, 786, 811, 818, 893, 923, 944]\n"
     ]
    }
   ],
   "source": [
    "def bubble_sort(A):\n",
    "    n = len(A)\n",
    "    for i in range(n):\n",
    "        swapped = False\n",
    "        for j in range(0, n-i-1):\n",
    "            if A[j] > A[j+1]:\n",
    "                A[j], A[j+1] = A[j+1], A[j]\n",
    "                swapped = True\n",
    "        if not swapped:\n",
    "            break\n",
    "    return A\n",
    "\n",
    "array = [random.randint(1, 1000) for _ in range(20)]\n",
    "\n",
    "print(array)\n",
    "bubble_sort(array); print(array)"
   ]
  },
  {
   "cell_type": "markdown",
   "metadata": {},
   "source": [
    "### Merge Sort"
   ]
  },
  {
   "cell_type": "code",
   "execution_count": 6,
   "metadata": {},
   "outputs": [
    {
     "name": "stdout",
     "output_type": "stream",
     "text": [
      "[985, 235, 423, 977, 71, 157, 255, 395, 90, 787, 927, 710, 160, 635, 120, 828, 412, 611, 825, 373]\n",
      "[71, 90, 120, 157, 160, 235, 255, 373, 395, 412, 423, 611, 635, 710, 787, 825, 828, 927, 977, 985]\n"
     ]
    }
   ],
   "source": [
    "def merge_sort(A):\n",
    "    if len(A) <= 1:\n",
    "        return\n",
    "    mid = len(A) // 2\n",
    "    half1 = A[:mid]\n",
    "    half2 = A[mid:]\n",
    "    merge_sort(half1)\n",
    "    merge_sort(half2)\n",
    "    merge(half1, half2, A)\n",
    "\n",
    "def merge(h1, h2, A):\n",
    "    j1 = j2 = j = 0\n",
    "    while j1 < len(h1) and j2 < len(h2):\n",
    "        if h1[j1] < h2[j2]:\n",
    "            A[j] = h1[j1]\n",
    "            j1 += 1\n",
    "        else:\n",
    "            A[j] = h2[j2]\n",
    "            j2 += 1\n",
    "        j += 1\n",
    "    while j1 < len(h1):\n",
    "        A[j] = h1[j1]\n",
    "        j1 += 1\n",
    "        j += 1\n",
    "    while j2 < len(h2):\n",
    "        A[j] = h2[j2]\n",
    "        j2 += 1\n",
    "        j += 1\n",
    "\n",
    "array = [random.randint(1, 1000) for _ in range(20)]\n",
    "\n",
    "print(array)\n",
    "bubble_sort(array); print(array)"
   ]
  },
  {
   "cell_type": "markdown",
   "metadata": {},
   "source": [
    "### Quick Sort"
   ]
  },
  {
   "cell_type": "code",
   "execution_count": 7,
   "metadata": {},
   "outputs": [
    {
     "name": "stdout",
     "output_type": "stream",
     "text": [
      "[806, 100, 496, 361, 124, 670, 725, 505, 403, 63, 988, 875, 781, 916, 51, 128, 689, 105, 939, 680]\n",
      "[51, 63, 100, 105, 124, 128, 361, 403, 496, 505, 670, 680, 689, 725, 781, 806, 875, 916, 939, 988]\n"
     ]
    }
   ],
   "source": [
    "def quick_sort(A, lo, hi):\n",
    "    if hi - lo <= 1: return\n",
    "    pivot = partition(A, lo, hi)\n",
    "    quick_sort(A, lo, pivot)\n",
    "    quick_sort(A, pivot + 1, hi)\n",
    "\n",
    "def partition(A, lo, hi):\n",
    "    pivot = A[lo]\n",
    "    B = [0 for _ in range(lo, hi)]\n",
    "    loB = 0\n",
    "    hiB = len(B) - 1\n",
    "    for i in range(lo+1, hi):\n",
    "        if A[i] < pivot:\n",
    "            B[loB] = A[i]\n",
    "            loB += 1\n",
    "        else:\n",
    "            B[hiB] = A[i]\n",
    "            hiB -= 1\n",
    "    B[loB] = pivot\n",
    "\n",
    "    for i in range(len(B)):\n",
    "        A[lo+i] = B[i]\n",
    "    return lo + loB\n",
    "\n",
    "array = [random.randint(1, 1000) for _ in range(20)]\n",
    "\n",
    "print(array)\n",
    "quick_sort(array, 0, len(array)); print(array)"
   ]
  },
  {
   "cell_type": "markdown",
   "metadata": {},
   "source": [
    "- Quick sort has an average time complexity of O(log(n)) but has a worse case time complexity of O(n^2) if we always pick pivots which are the smallest elements, so if the array is already sorted.\n",
    "\n",
    "- Merge sort has an worst case time complexity if O(log(n)).\n",
    "\n",
    "- However in contrast to merge sort the creation of a new array is only temporary as B is discarded when the partition finishes, therefore the total memory used in much less"
   ]
  },
  {
   "cell_type": "markdown",
   "metadata": {},
   "source": []
  },
  {
   "cell_type": "code",
   "execution_count": null,
   "metadata": {},
   "outputs": [],
   "source": []
  }
 ],
 "metadata": {
  "kernelspec": {
   "display_name": ".venv",
   "language": "python",
   "name": "python3"
  },
  "language_info": {
   "codemirror_mode": {
    "name": "ipython",
    "version": 3
   },
   "file_extension": ".py",
   "mimetype": "text/x-python",
   "name": "python",
   "nbconvert_exporter": "python",
   "pygments_lexer": "ipython3",
   "version": "3.12.6"
  }
 },
 "nbformat": 4,
 "nbformat_minor": 2
}
